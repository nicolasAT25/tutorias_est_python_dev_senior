{
 "cells": [
  {
   "cell_type": "markdown",
   "id": "2e88d6e2",
   "metadata": {},
   "source": [
    "# `Estructuras de datos`\n",
    "\n",
    "| **Estructura** | **Sintáxis** | **Características** |\n",
    "| --- | --- | --- |\n",
    "| <center>`list`</center> | <center>`[]`</center> | • **Ordenadas**: los elementos tienen un **índice**, lo que significa que se puede acceder a ellos usando ese índice.<br>• **Mutables**: es posible **modificar** el contenido de una lista (agregar, eliminar, cambiar elementos) después de haberla creado.<br>• **Permiten duplicados**: pueden existir elementos repetidos dentro de una lista. |\n",
    "| <center>`dict`</center> | <center>`{key:value}`</center> | • **Desordenados:** En versiones anteriores de Python, los diccionarios no mantenían un orden. Sin embargo, a partir de Python 3.7, el orden de los elementos en un diccionario se conserva, es decir, los elementos se almacenan en el mismo orden en que fueron añadidos.<br>• **Acceso rápido:** El acceso a los valores en un diccionario es muy rápido, ya que internamente utilizan una estructura de datos llamada tabla hash para almacenar las claves y sus valores asociados.<br>• **Claves únicas:** Las claves en un diccionario deben ser únicas. Si intentas asignar un valor a una clave que ya existe, el valor anterior se sobrescribirá.<br>• **Valores mutables:** Los valores de un diccionario pueden ser de cualquier tipo de datos, incluidos otros diccionarios, listas, enteros, cadenas, etc. Esto hace que los diccionarios sean muy flexibles. |\n",
    "| <center>`tuple ()`</center> | <center>`()`</center> | • Se definen con paréntesis `()`.<br>• Son **<u>inmutables</u>** (seguridad) (no puedes cambiar, agregar ni eliminar elementos).<br>• Son **ordenadas**, lo que significa que puedes acceder a los elementos por su índice.<br>• Pueden contener **cualquier tipo de dato** (números, cadenas, listas, etc.).<br>• Debido a que son inmutables, las tuplas suelen ser más **rápidas** que las listas en operaciones de acceso. |\n",
    "| <center>`set {}`</center> | <center>`{}`</center> | • Son **no ordenados**, lo que significa que <u>no</u> puedes acceder a los elementos por <u>índice</u>.<br>• Son **mutables**, pero <u>no</u> permiten elementos <u>duplicados</u>.<br>• Son **iterables**, lo que significa que puedes <u>recorrer</u> estos objetos. |"
   ]
  },
  {
   "cell_type": "markdown",
   "id": "4c502614",
   "metadata": {},
   "source": [
    "# Tratamiento de errores con `try...except`\n",
    "\n",
    "## `Sintaxis`\n",
    "\n",
    "```python\n",
    "try:\n",
    "    Código que Python \"intentará\" ejecutar\n",
    "except:\n",
    "    Código que será ejecutado al capturarse una excepción\n",
    "else:\n",
    "    Código que se ejecuta si no se captura ninguna excepción (opcional)\n",
    "finally:\n",
    "    Bloque de código ejecutado siempre (opcional)"
   ]
  },
  {
   "cell_type": "code",
   "execution_count": 1,
   "id": "c68e301d",
   "metadata": {},
   "outputs": [
    {
     "ename": "ZeroDivisionError",
     "evalue": "division by zero",
     "output_type": "error",
     "traceback": [
      "\u001b[0;31m---------------------------------------------------------------------------\u001b[0m",
      "\u001b[0;31mZeroDivisionError\u001b[0m                         Traceback (most recent call last)",
      "Cell \u001b[0;32mIn[1], line 1\u001b[0m\n\u001b[0;32m----> 1\u001b[0m resultado \u001b[38;5;241m=\u001b[39m \u001b[38;5;241;43m10\u001b[39;49m\u001b[43m \u001b[49m\u001b[38;5;241;43m/\u001b[39;49m\u001b[43m \u001b[49m\u001b[38;5;241;43m0\u001b[39;49m\n\u001b[1;32m      2\u001b[0m \u001b[38;5;28mprint\u001b[39m(\u001b[38;5;124mf\u001b[39m\u001b[38;5;124m\"\u001b[39m\u001b[38;5;124mEl resultado de la división es : \u001b[39m\u001b[38;5;132;01m{\u001b[39;00mresultado\u001b[38;5;132;01m}\u001b[39;00m\u001b[38;5;124m\"\u001b[39m)\n",
      "\u001b[0;31mZeroDivisionError\u001b[0m: division by zero"
     ]
    }
   ],
   "source": [
    "resultado = 10 / 0\n",
    "print(f\"El resultado de la división es : {resultado}\")"
   ]
  },
  {
   "cell_type": "code",
   "execution_count": 2,
   "id": "4b582914",
   "metadata": {},
   "outputs": [],
   "source": [
    "def division_segura(numero1:int, numero2:int):\n",
    "    try:\n",
    "        resultado = numero1 / numero2\n",
    "        print(f\"El resultado de la división es : {resultado}\")\n",
    "        \n",
    "    except:\n",
    "        print(\"No es posible realizar esta división!!!\")"
   ]
  },
  {
   "cell_type": "code",
   "execution_count": 4,
   "id": "5c9fead3",
   "metadata": {},
   "outputs": [
    {
     "name": "stdout",
     "output_type": "stream",
     "text": [
      "No es posible realizar esta división!!!\n"
     ]
    }
   ],
   "source": [
    "division_segura(10, 0)"
   ]
  },
  {
   "cell_type": "code",
   "execution_count": 5,
   "id": "150e5fae",
   "metadata": {},
   "outputs": [],
   "source": [
    "def division_segura_1(numero1, numero2):\n",
    "    try:\n",
    "        resultado = numero1/numero2\n",
    "        print(\"El resultado de la división es: \", resultado)\n",
    "    except:\n",
    "        print(\"No es posible realizar esta división (indeterminado).\")\n",
    "    else:\n",
    "        print(\"Debes proporcionar números válidos para la división.\")\n",
    "    finally:\n",
    "        print(\"Operación finalizada.\")"
   ]
  },
  {
   "cell_type": "code",
   "execution_count": 11,
   "id": "2df88a31",
   "metadata": {},
   "outputs": [
    {
     "name": "stdout",
     "output_type": "stream",
     "text": [
      "El resultado de la división es:  5.0\n",
      "Debes proporcionar números válidos para la división.\n",
      "Operación finalizada.\n"
     ]
    }
   ],
   "source": [
    "res = division_segura_1(10, 2)\n",
    "# division_segura_1(10, 0)\n",
    "# division_segura_1(10, \"Nicolás\")"
   ]
  },
  {
   "cell_type": "markdown",
   "id": "954942a6",
   "metadata": {},
   "source": [
    "# Tipos de errores\n",
    "\n",
    "* ## Errores de `sintaxis`\n",
    "\n",
    "    * `SyntaxError`: Error de sintaxis en el código.\n",
    "\n",
    "* ## Excepciones (`Exceptions`)\n",
    "\n",
    "    * `NameError`: Se genera cuando no se encuentra un nombre local o global. \n",
    "    * `ValueError`: tipo de dato correcto pero valor inapropiado.\n",
    "    * `TypeError`: Tipo inapropiado de operación o función a un objeto inapropiado.\n",
    "    * `IndexError`: Índice fuera de rango.\n",
    "    * `KeyError`: Clave no encontrada en un diccionario.\n",
    "    * `AttributeError`: Acceso a un atributo inexistente.\n",
    "    * `ZeroDivisionError`: División por cero.\n",
    "    * Entre otros...\n",
    "\n",
    "## Documentación\n",
    "\n",
    "* [Errores y Excepciones](https://docs.python.org/es/3.13/tutorial/errors.html#)\n",
    "* [Excepciones incorporadas](https://docs.python.org/es/3.10/library/exceptions.html#bltin-exceptions)"
   ]
  },
  {
   "cell_type": "markdown",
   "id": "e1003e83",
   "metadata": {},
   "source": [
    "# Sentencia `raise`"
   ]
  },
  {
   "cell_type": "code",
   "execution_count": 15,
   "id": "833a158f",
   "metadata": {},
   "outputs": [
    {
     "name": "stdout",
     "output_type": "stream",
     "text": [
      "ERROR: No es posible realizar esta división (indeterminado).\n",
      "Operación finalizada.\n"
     ]
    }
   ],
   "source": [
    "def division_segura(numero1, numero2):\n",
    "    try:\n",
    "        if numero2 == 0:\n",
    "            raise ZeroDivisionError(\"No es posible realizar esta división (indeterminado).\")\n",
    "        \n",
    "        if not isinstance(numero1, (int, float)) or not isinstance(numero2, (int, float)):\n",
    "            raise TypeError(\"Los números deben ser de tipo int o float.\")\n",
    "        \n",
    "        resultado = numero1/numero2\n",
    "        \n",
    "    except ZeroDivisionError as e:\n",
    "        print(\"ERROR:\", e)\n",
    "        \n",
    "    except TypeError as e:\n",
    "        print(\"ERROR:\", e)\n",
    "        \n",
    "    except Exception as e:\n",
    "        print(f\"ERROR: {e}\")\n",
    "        \n",
    "    else:\n",
    "        print(\"El resultado de la división es: \", resultado)\n",
    "        return resultado\n",
    "    \n",
    "    finally:\n",
    "        print(\"Operación finalizada.\")\n",
    "\n",
    "# res = division_segura(10, 2)\n",
    "division_segura(10, 0)\n",
    "# division_segura(10, \"Nicolás\")\n",
    "# division_segura(10, [\"Jhon\", \"Nicolás\", \"Andrés\"])"
   ]
  },
  {
   "cell_type": "code",
   "execution_count": 14,
   "id": "1e7be194",
   "metadata": {},
   "outputs": [
    {
     "name": "stdout",
     "output_type": "stream",
     "text": [
      "5.0\n"
     ]
    }
   ],
   "source": [
    "print(res)"
   ]
  },
  {
   "cell_type": "code",
   "execution_count": null,
   "id": "d9e3a9ac",
   "metadata": {},
   "outputs": [
    {
     "name": "stdout",
     "output_type": "stream",
     "text": [
      "Valor erróneo: La cantidad debe ser superior a cero, cantidad recibida: -10\n",
      "Operación finalizada.\n"
     ]
    }
   ],
   "source": [
    "def procesar_pedido(codigo_producto:str, cantidad:int, precio_unitario:float = 100.0):\n",
    "    try:\n",
    "        # Simular una validación de datos\n",
    "        if not codigo_producto.isalnum():\n",
    "            # raise ERROR: gestiona de forma manual y en tiempo de ejecucuión un ERROR\n",
    "            raise ValueError(\"El código del producto debe ser alfanúmerico\")\n",
    "            # raise ValueError(\"El código del producto debe ser alfanúmerico\")\n",
    "        if cantidad <= 0:\n",
    "            # raise Exception(\"La cantidad debe ser superior a cero\")\n",
    "            raise ValueError(f\"La cantidad debe ser superior a cero, cantidad recibida: {cantidad}\")\n",
    "        if precio_unitario <= 0:\n",
    "            # raise Exception(\"El precio debe ser superior a cero\")\n",
    "            raise ValueError(f\"El precio debe ser superior a cero, precio recibido: {precio_unitario}\")\n",
    "        \n",
    "        # Simular el calculo del total\n",
    "        total = precio_unitario * cantidad\n",
    "      \n",
    "    except ValueError as e:\n",
    "        print(f\"Valor erróneo: {e}\")\n",
    "        \n",
    "    except Exception as e:\n",
    "        print(f\"Error al procesar el pedido: {e}\")\n",
    "        \n",
    "    else:\n",
    "        print(f\"Pedido procesado exitosamente. El total a pagar es: ${total:.2f}\")\n",
    "        \n",
    "    finally:\n",
    "        print(\"Operación finalizada.\")\n",
    "        \n",
    "####### ejemplos de uso #######\n",
    "\n",
    "# procesar_pedido(\"ABC123\", -2, -100)\n",
    "# procesar_pedido(\"######\", 12)\n",
    "procesar_pedido(\"GHJ8547\", -10)\n",
    "# procesar_pedido(\"GHJ8547\", 10.25)"
   ]
  }
 ],
 "metadata": {
  "kernelspec": {
   "display_name": "Python 3",
   "language": "python",
   "name": "python3"
  },
  "language_info": {
   "codemirror_mode": {
    "name": "ipython",
    "version": 3
   },
   "file_extension": ".py",
   "mimetype": "text/x-python",
   "name": "python",
   "nbconvert_exporter": "python",
   "pygments_lexer": "ipython3",
   "version": "3.12.3"
  }
 },
 "nbformat": 4,
 "nbformat_minor": 5
}
