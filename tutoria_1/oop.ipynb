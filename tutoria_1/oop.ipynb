{
 "cells": [
  {
   "cell_type": "markdown",
   "id": "a97d66b4",
   "metadata": {},
   "source": [
    "# Programación Orientada a Objetos (POO)\n",
    "\n",
    "* `Paradigma` de programación.\n",
    "\n",
    "* `Clases` y `Objetos`\n",
    "\n",
    "* `Atributos` y `Métodos`\n",
    "\n",
    "* **Pilares**\n",
    "    * `Encapsulamiento`: Consiste en ocultar los detalles internos del objeto y exponer solo lo necesario.\n",
    "\n",
    "        > `Mangling`: es un mecanismo que se aplica a los nombres de atributos de instancia que comienzan con dos guiones bajos `(__)` y no terminan en guiones bajos. Python transforma automáticamente el nombre del atributo para hacerlo más difícil de sobrescribir accidentalmente en clases hijas (es decir, evitar colisiones de nombres en herencia).\n",
    "\n",
    "    * `Herencia`: Permite crear nuevas clases basadas en otras ya existentes, heredando sus atributos y métodos.\n",
    "\n",
    "    * `Polimorfismo`: Objetos de distintas clases pueden responder a la misma interfaz o método, pero de manera diferente.\n",
    "\n",
    "    * `Abstracción`: Consiste en enfocarse en lo esencial del objeto, ocultando lo complejo."
   ]
  },
  {
   "cell_type": "markdown",
   "id": "ce59f89d",
   "metadata": {},
   "source": [
    "## `Ejemplo 1`\n",
    "\n",
    "[Compilador visual de Python](https://pythontutor.com/python-compiler.html#mode=edit)"
   ]
  },
  {
   "cell_type": "code",
   "execution_count": 19,
   "id": "6c076f39",
   "metadata": {},
   "outputs": [],
   "source": [
    "class Carro:\n",
    "    def __init__(self, color, marca, anio):\n",
    "        self.color = color\n",
    "        self.marca = marca\n",
    "        self.__anio = anio\n",
    "        \n",
    "    # Getters\n",
    "    def get_anio(self):\n",
    "        return self.__anio\n",
    "    \n",
    "    # Setters\n",
    "    def set_anio(self, nuevo_anio):\n",
    "        self.__anio = nuevo_anio\n",
    "        return self.__anio\n",
    "    \n",
    "    # Método\n",
    "    def acelerar(self):\n",
    "        print(\"Acelerando...\")\n",
    "        \n",
    "    def __str__(self):\n",
    "        return f\"Hola! Soy un carro de la marca {self.marca} 🚗!!! Soy de color {self.color}\""
   ]
  },
  {
   "cell_type": "code",
   "execution_count": 20,
   "id": "f00882db",
   "metadata": {},
   "outputs": [
    {
     "name": "stdout",
     "output_type": "stream",
     "text": [
      "### Accediendo a los atributos de la clase ###\n",
      "gris\n",
      "azul\n",
      "Volkswagen\n",
      "Nissan\n",
      "2003\n",
      "2020\n",
      "### Accediendo a los métodos de la clase ###\n",
      "Hola! Soy un carro de la marca Volkswagen 🚗!!! Soy de color gris\n",
      "Hola! Soy un carro de la marca Nissan 🚗!!! Soy de color azul\n",
      "Acelerando...\n",
      "Acelerando...\n"
     ]
    }
   ],
   "source": [
    "# Creando objeto/instancia de la clase Carro\n",
    "mi_carro = Carro(\"gris\", \"Volkswagen\", 2003)\n",
    "carro = Carro(\"azul\", \"Nissan\", 2020)\n",
    "\n",
    "print(\"### Accediendo a los atributos de la clase ###\")\n",
    "print(mi_carro.color)\n",
    "print(carro.color)\n",
    "\n",
    "print(mi_carro.marca)\n",
    "print(carro.marca)\n",
    "\n",
    "print(mi_carro.get_anio())\n",
    "print(carro.get_anio())\n",
    "\n",
    "print(\"### Accediendo a los métodos de la clase ###\")\n",
    "print(mi_carro)\n",
    "print(carro)\n",
    "mi_carro.acelerar()\n",
    "carro.acelerar()"
   ]
  },
  {
   "cell_type": "markdown",
   "id": "4e8ca6c5",
   "metadata": {},
   "source": [
    "## `Dunders`\n",
    "\n",
    "Los métodos \"dunder\" (de \"double underscore\"), también conocidos como métodos mágicos o especiales, son métodos que comienzan y terminan con dos guiones bajos (__). Se utilizan para definir comportamientos especiales de objetos en Python.\n",
    "\n",
    "| Método | Propósito |\n",
    "| --- | --- |\n",
    "| `__init__` | Constructor de clase |\n",
    "| `__str__` | String legible para humanos |\n",
    "| `__repr__` | String para desarrolladores |\n",
    "| `__eq__` | Comparación == |\n",
    "| `__lt__`, `__gt__`, `__ge__` | \tComparaciones <, > |\n",
    "| `__len__` | \tLongitud del objeto |\n",
    "| `__add__` | \tSuma con + |\n",
    "| `__getitem__` | \tSuma con + |\n",
    "| `__name__` | \tPermite que un archivo Python funcione tanto como script ejecutable como módulo reutilizable |\n",
    "\n",
    "\n",
    "### Ejemplo\n",
    "---\n",
    "\n",
    "```python\n",
    "if __name__ == \"__main__\":\n",
    "    ...\n"
   ]
  },
  {
   "cell_type": "markdown",
   "id": "37c7c25c",
   "metadata": {},
   "source": [
    "## `docstrings`\n",
    "\n",
    "Son cadenas de texto (`str`) que se utilizan para <u>documentar</u> el propósito y funcionamiento de una función. Se encuentran justo después de la definición de la función, clase o módulo, y sirven como documentación interna que describe qué hace el código, cómo se usa, qué parámetros espera y qué valores devuelve.\n",
    "\n",
    "### `Características`\n",
    "\n",
    "* Los docstrings se colocan inmediatamente después de la declaración de una función, entre comillas triples (`\"\"\"` o `'''`).\n",
    "\n",
    "* Puedes acceder a un docstring en tiempo de ejecución utilizando el atributo especial `.__doc__`."
   ]
  },
  {
   "cell_type": "code",
   "execution_count": 21,
   "id": "8b7dc33a",
   "metadata": {},
   "outputs": [],
   "source": [
    "class Carro:\n",
    "    def __init__(self, color, marca, anio):\n",
    "        self.color = color\n",
    "        self.marca = marca\n",
    "        self.anio = anio\n",
    "        \n",
    "    def decir_anio(self):\n",
    "        \"\"\"_summary_\n",
    "        \n",
    "        Función que permite visualizar el año de una instancia de Carro.\n",
    "        \n",
    "        Args: None\n",
    "        \n",
    "        Returns: Año del carro\n",
    "        \"\"\"\n",
    "        print(f\"Soy modelo {self.anio}\")\n",
    "        \n",
    "    def acelerar(self):\n",
    "        print(\"Acelerando...\")\n",
    "    \n",
    "    def __str__(self):\n",
    "        return f\"Hola! Soy un carro de la marca {self.marca} 🚗!!! Soy de color {self.color}\""
   ]
  },
  {
   "cell_type": "code",
   "execution_count": 22,
   "id": "3a120baa",
   "metadata": {},
   "outputs": [],
   "source": [
    "mi_carro = Carro(\"gris\", \"Volkswagen\", 2003)\n",
    "carro = Carro(\"rojo\", \"nissan\", 2010)"
   ]
  },
  {
   "cell_type": "code",
   "execution_count": 23,
   "id": "06c0724b",
   "metadata": {},
   "outputs": [
    {
     "name": "stdout",
     "output_type": "stream",
     "text": [
      "_summary_\n",
      "        \n",
      "        Función que permite visualizar el año de una instancia de Carro.\n",
      "        \n",
      "        Args: None\n",
      "        \n",
      "        Returns: Año del carro\n",
      "        \n"
     ]
    }
   ],
   "source": [
    "print(mi_carro.decir_anio.__doc__)"
   ]
  }
 ],
 "metadata": {
  "kernelspec": {
   "display_name": "Python 3",
   "language": "python",
   "name": "python3"
  },
  "language_info": {
   "codemirror_mode": {
    "name": "ipython",
    "version": 3
   },
   "file_extension": ".py",
   "mimetype": "text/x-python",
   "name": "python",
   "nbconvert_exporter": "python",
   "pygments_lexer": "ipython3",
   "version": "3.12.3"
  }
 },
 "nbformat": 4,
 "nbformat_minor": 5
}
